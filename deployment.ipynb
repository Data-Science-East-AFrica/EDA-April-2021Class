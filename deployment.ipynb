{
 "cells": [
  {
   "cell_type": "markdown",
   "metadata": {},
   "source": [
    "**pickle:** A native python library to save (serialize) and load (de-serialize) python objects as files on the disk\n",
    "\n",
    "\n",
    "**flask:** A python based easy to use web framework. Here are the docs and a good series of video tutorials by sentdex\n",
    "\n",
    "sklearn, pandas and numpy\n",
    "\n",
    "Machine Learning Model Deployment Cloud Platforms.\n",
    "1. Algorithmia\n",
    "2. PythonAnywhere\n",
    "3. Heroku\n",
    "4. Microsoft Azure Functions\n",
    "5. Google Cloud Platform\n",
    "6. AWS Lambda"
   ]
  },
  {
   "cell_type": "markdown",
   "metadata": {},
   "source": [
    "pythonanywhere: A free to use educational website that allows hosting python flask and provides a complete python development environment."
   ]
  },
  {
   "cell_type": "code",
   "execution_count": null,
   "metadata": {},
   "outputs": [],
   "source": []
  }
 ],
 "metadata": {
  "kernelspec": {
   "display_name": "Python 3",
   "language": "python",
   "name": "python3"
  },
  "language_info": {
   "codemirror_mode": {
    "name": "ipython",
    "version": 3
   },
   "file_extension": ".py",
   "mimetype": "text/x-python",
   "name": "python",
   "nbconvert_exporter": "python",
   "pygments_lexer": "ipython3",
   "version": "3.7.3"
  }
 },
 "nbformat": 4,
 "nbformat_minor": 2
}
